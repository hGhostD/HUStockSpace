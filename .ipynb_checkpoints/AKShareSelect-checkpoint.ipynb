{
 "cells": [
  {
   "cell_type": "code",
   "execution_count": 23,
   "id": "f029d131-3749-4451-b77f-177fc2c9ec9a",
   "metadata": {},
   "outputs": [],
   "source": [
    "import HUTools as hu\n",
    "import importlib\n",
    "import pandas as pd\n",
    "import akshare as ak\n",
    "import datetime as dt\n",
    "from dateutil.relativedelta import relativedelta"
   ]
  },
  {
   "cell_type": "code",
   "execution_count": 24,
   "id": "fb016e32-545c-4351-b73b-4f1128df62d6",
   "metadata": {},
   "outputs": [
    {
     "data": {
      "text/plain": [
       "<module 'HUTools' from '/Users/hujiawen/Desktop/hu/Python/Jupyter/a 股/HUStockSpace/HUTools.py'>"
      ]
     },
     "execution_count": 24,
     "metadata": {},
     "output_type": "execute_result"
    }
   ],
   "source": [
    "importlib.reload(hu) # 刷新引入库"
   ]
  },
  {
   "cell_type": "markdown",
   "id": "aaa4bbf3-d661-4d94-8e76-90d896f15d14",
   "metadata": {},
   "source": [
    "获取当日股票成交信息 stocks"
   ]
  },
  {
   "cell_type": "code",
   "execution_count": null,
   "id": "4dbd6b17-b1ce-4580-8dfb-b38243891875",
   "metadata": {},
   "outputs": [
    {
     "data": {
      "application/vnd.jupyter.widget-view+json": {
       "model_id": "7e77215bbcd54957a210e6dbe45f2ec2",
       "version_major": 2,
       "version_minor": 0
      },
      "text/plain": [
       "  0%|          | 0/50 [00:00<?, ?it/s]"
      ]
     },
     "metadata": {},
     "output_type": "display_data"
    }
   ],
   "source": [
    "stocks = hu.getTodayStocks()\n",
    "type(stocks)"
   ]
  },
  {
   "cell_type": "code",
   "execution_count": 19,
   "id": "ac7c2ea8-8ed4-4e6d-a782-5f23e8158d97",
   "metadata": {},
   "outputs": [
    {
     "data": {
      "text/plain": [
       "['__builtins__',\n",
       " '__cached__',\n",
       " '__doc__',\n",
       " '__file__',\n",
       " '__loader__',\n",
       " '__name__',\n",
       " '__package__',\n",
       " '__spec__',\n",
       " 'getTodayStocks',\n",
       " 'my_function']"
      ]
     },
     "execution_count": 19,
     "metadata": {},
     "output_type": "execute_result"
    }
   ],
   "source": [
    "dir(hu)"
   ]
  },
  {
   "cell_type": "code",
   "execution_count": null,
   "id": "668b62a9-4693-4871-b104-d3b067e8f340",
   "metadata": {},
   "outputs": [],
   "source": []
  }
 ],
 "metadata": {
  "kernelspec": {
   "display_name": "Python (3.12)",
   "language": "python",
   "name": "base"
  },
  "language_info": {
   "codemirror_mode": {
    "name": "ipython",
    "version": 3
   },
   "file_extension": ".py",
   "mimetype": "text/x-python",
   "name": "python",
   "nbconvert_exporter": "python",
   "pygments_lexer": "ipython3",
   "version": "3.12.2"
  }
 },
 "nbformat": 4,
 "nbformat_minor": 5
}
